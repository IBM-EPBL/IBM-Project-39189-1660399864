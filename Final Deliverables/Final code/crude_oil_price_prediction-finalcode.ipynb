{
 "cells": [
  {
   "cell_type": "markdown",
   "id": "f365e3e2",
   "metadata": {},
   "source": [
    "### Importing libraries"
   ]
  },
  {
   "cell_type": "code",
   "execution_count": 1,
   "id": "c155604c",
   "metadata": {},
   "outputs": [],
   "source": [
    "import pandas as pd\n",
    "import numpy as np\n",
    "import matplotlib.pyplot as plt"
   ]
  },
  {
   "cell_type": "code",
   "execution_count": 2,
   "id": "b31ef246",
   "metadata": {},
   "outputs": [],
   "source": [
    "import os"
   ]
  },
  {
   "cell_type": "markdown",
   "id": "24cbc796",
   "metadata": {},
   "source": [
    "### Importing the dataset"
   ]
  },
  {
   "cell_type": "code",
   "execution_count": 3,
   "id": "6a0616c4",
   "metadata": {},
   "outputs": [
    {
     "data": {
      "text/html": [
       "<div>\n",
       "<style scoped>\n",
       "    .dataframe tbody tr th:only-of-type {\n",
       "        vertical-align: middle;\n",
       "    }\n",
       "\n",
       "    .dataframe tbody tr th {\n",
       "        vertical-align: top;\n",
       "    }\n",
       "\n",
       "    .dataframe thead th {\n",
       "        text-align: right;\n",
       "    }\n",
       "</style>\n",
       "<table border=\"1\" class=\"dataframe\">\n",
       "  <thead>\n",
       "    <tr style=\"text-align: right;\">\n",
       "      <th></th>\n",
       "      <th>Date</th>\n",
       "      <th>Closing Value</th>\n",
       "    </tr>\n",
       "  </thead>\n",
       "  <tbody>\n",
       "    <tr>\n",
       "      <th>0</th>\n",
       "      <td>1986-01-02</td>\n",
       "      <td>25.56</td>\n",
       "    </tr>\n",
       "    <tr>\n",
       "      <th>1</th>\n",
       "      <td>1986-01-03</td>\n",
       "      <td>26.00</td>\n",
       "    </tr>\n",
       "    <tr>\n",
       "      <th>2</th>\n",
       "      <td>1986-01-06</td>\n",
       "      <td>26.53</td>\n",
       "    </tr>\n",
       "    <tr>\n",
       "      <th>3</th>\n",
       "      <td>1986-01-07</td>\n",
       "      <td>25.85</td>\n",
       "    </tr>\n",
       "    <tr>\n",
       "      <th>4</th>\n",
       "      <td>1986-01-08</td>\n",
       "      <td>25.87</td>\n",
       "    </tr>\n",
       "  </tbody>\n",
       "</table>\n",
       "</div>"
      ],
      "text/plain": [
       "        Date  Closing Value\n",
       "0 1986-01-02          25.56\n",
       "1 1986-01-03          26.00\n",
       "2 1986-01-06          26.53\n",
       "3 1986-01-07          25.85\n",
       "4 1986-01-08          25.87"
      ]
     },
     "execution_count": 3,
     "metadata": {},
     "output_type": "execute_result"
    }
   ],
   "source": [
    "data=pd.read_excel(r\"D:\\Crudeoil price prediction\\Crude Oil Prices Daily.xlsx\")\n",
    "data.head()"
   ]
  },
  {
   "cell_type": "markdown",
   "id": "a2a42297",
   "metadata": {},
   "source": [
    "### Handling missing values"
   ]
  },
  {
   "cell_type": "code",
   "execution_count": 4,
   "id": "e6582f4d",
   "metadata": {},
   "outputs": [
    {
     "data": {
      "text/plain": [
       "Date             False\n",
       "Closing Value     True\n",
       "dtype: bool"
      ]
     },
     "execution_count": 4,
     "metadata": {},
     "output_type": "execute_result"
    }
   ],
   "source": [
    "data.isnull().any()"
   ]
  },
  {
   "cell_type": "code",
   "execution_count": 5,
   "id": "7d40b3c1",
   "metadata": {},
   "outputs": [
    {
     "data": {
      "text/plain": [
       "Date             0\n",
       "Closing Value    7\n",
       "dtype: int64"
      ]
     },
     "execution_count": 5,
     "metadata": {},
     "output_type": "execute_result"
    }
   ],
   "source": [
    "data.isnull().sum()"
   ]
  },
  {
   "cell_type": "code",
   "execution_count": 6,
   "id": "32b31781",
   "metadata": {},
   "outputs": [],
   "source": [
    "data.dropna(axis=0,inplace=True)"
   ]
  },
  {
   "cell_type": "code",
   "execution_count": 7,
   "id": "cd243d4e",
   "metadata": {},
   "outputs": [],
   "source": [
    "data=data.reset_index()['Closing Value']"
   ]
  },
  {
   "cell_type": "code",
   "execution_count": 8,
   "id": "b65a8f82",
   "metadata": {},
   "outputs": [
    {
     "data": {
      "text/plain": [
       "0    25.56\n",
       "1    26.00\n",
       "2    26.53\n",
       "3    25.85\n",
       "4    25.87\n",
       "Name: Closing Value, dtype: float64"
      ]
     },
     "execution_count": 8,
     "metadata": {},
     "output_type": "execute_result"
    }
   ],
   "source": [
    "data.head()"
   ]
  },
  {
   "cell_type": "markdown",
   "id": "a1665fe6",
   "metadata": {},
   "source": [
    "### Feature scaling"
   ]
  },
  {
   "cell_type": "code",
   "execution_count": 9,
   "id": "c6e9ffb9",
   "metadata": {},
   "outputs": [],
   "source": [
    "from sklearn.preprocessing import MinMaxScaler\n",
    "scaler=MinMaxScaler(feature_range=(0,1))\n",
    "data=scaler.fit_transform(np.array(data).reshape(-1,1))"
   ]
  },
  {
   "cell_type": "code",
   "execution_count": 10,
   "id": "780a2eaa",
   "metadata": {},
   "outputs": [
    {
     "data": {
      "text/plain": [
       "array([[0.11335703],\n",
       "       [0.11661484],\n",
       "       [0.12053902],\n",
       "       ...,\n",
       "       [0.46497853],\n",
       "       [0.47038353],\n",
       "       [0.47149415]])"
      ]
     },
     "execution_count": 10,
     "metadata": {},
     "output_type": "execute_result"
    }
   ],
   "source": [
    "data"
   ]
  },
  {
   "cell_type": "code",
   "execution_count": 11,
   "id": "b8dd331a",
   "metadata": {},
   "outputs": [
    {
     "data": {
      "text/plain": [
       "8216"
      ]
     },
     "execution_count": 11,
     "metadata": {},
     "output_type": "execute_result"
    }
   ],
   "source": [
    "len(data)"
   ]
  },
  {
   "cell_type": "markdown",
   "id": "f562ac87",
   "metadata": {},
   "source": [
    "### Data visualization"
   ]
  },
  {
   "cell_type": "code",
   "execution_count": 12,
   "id": "8e0b8bdb",
   "metadata": {},
   "outputs": [
    {
     "data": {
      "image/png": "[encoded data removed]",
      "text/plain": [
       "<Figure size 432x288 with 1 Axes>"
      ]
     },
     "metadata": {
      "needs_background": "light"
     },
     "output_type": "display_data"
    }
   ],
   "source": [
    "plt.plot(data)\n",
    "plt.xlabel(\"Days\")\n",
    "plt.ylabel(\"Price\")\n",
    "plt.show()"
   ]
  },
  {
   "cell_type": "markdown",
   "id": "a20720c2",
   "metadata": {},
   "source": [
    "### Testing and training "
   ]
  },
  {
   "cell_type": "code",
   "execution_count": 13,
   "id": "72e9c730",
   "metadata": {},
   "outputs": [],
   "source": [
    "training_size=int(len(data)*0.80)\n",
    "testing_size=len(data)-training_size\n",
    "train_data,test_data=data[0:training_size],data[training_size:len(data)]"
   ]
  },
  {
   "cell_type": "code",
   "execution_count": 14,
   "id": "8f12ac0f",
   "metadata": {},
   "outputs": [
    {
     "data": {
      "text/plain": [
       "1644"
      ]
     },
     "execution_count": 14,
     "metadata": {},
     "output_type": "execute_result"
    }
   ],
   "source": [
    "train_data.shape\n",
    "len(test_data)"
   ]
  },
  {
   "cell_type": "markdown",
   "id": "0dd0a811",
   "metadata": {},
   "source": [
    "### Sliding window"
   ]
  },
  {
   "cell_type": "code",
   "execution_count": 15,
   "id": "b18c2b84",
   "metadata": {},
   "outputs": [],
   "source": [
    "def create_dataset(dataset,timestep):\n",
    "    dataX,dataY=[],[]\n",
    "    for i in range(len(dataset)-timestep-1):\n",
    "        a=dataset[i:(i+timestep),0]\n",
    "        dataX.append(a)\n",
    "        dataY.append(dataset[i+timestep,0])\n",
    "    return np.array(dataX),np.array(dataY)"
   ]
  },
  {
   "cell_type": "code",
   "execution_count": 16,
   "id": "fb8d0152",
   "metadata": {},
   "outputs": [],
   "source": [
    "time_step=10\n",
    "x_train,y_train=create_dataset(train_data,time_step)\n",
    "x_test,y_test=create_dataset(test_data,time_step)\n"
   ]
  },
  {
   "cell_type": "code",
   "execution_count": 17,
   "id": "24fc58a7",
   "metadata": {},
   "outputs": [],
   "source": [
    "y_train=y_train.reshape(-1,1)\n",
    "y_test=y_test.reshape(-1,1)"
   ]
  },
  {
   "cell_type": "code",
   "execution_count": 18,
   "id": "138ef836",
   "metadata": {},
   "outputs": [
    {
     "name": "stdout",
     "output_type": "stream",
     "text": [
      "(6561, 10)\n",
      "(1633, 1)\n"
     ]
    }
   ],
   "source": [
    "print(x_train.shape)\n",
    "print(y_test.shape)"
   ]
  },
  {
   "cell_type": "markdown",
   "id": "8103dc2e",
   "metadata": {},
   "source": [
    "### Model building"
   ]
  },
  {
   "cell_type": "code",
   "execution_count": 19,
   "id": "60af5bb0",
   "metadata": {},
   "outputs": [],
   "source": [
    "from tensorflow.keras.models import Sequential\n",
    "from tensorflow.keras.layers import Dense\n",
    "from tensorflow.keras.layers import LSTM"
   ]
  },
  {
   "cell_type": "code",
   "execution_count": 20,
   "id": "1d24709c",
   "metadata": {},
   "outputs": [],
   "source": [
    "model=Sequential()"
   ]
  },
  {
   "cell_type": "code",
   "execution_count": 21,
   "id": "a018dfd2",
   "metadata": {},
   "outputs": [],
   "source": [
    "model.add(LSTM(50,return_sequences=True,input_shape=(10,1)))\n",
    "model.add(LSTM(50,return_sequences=True))\n",
    "model.add(LSTM(50))"
   ]
  },
  {
   "cell_type": "code",
   "execution_count": 22,
   "id": "7fca9e9b",
   "metadata": {},
   "outputs": [],
   "source": [
    "model.add(Dense(1))"
   ]
  },
  {
   "cell_type": "code",
   "execution_count": 23,
   "id": "f7b8cd05",
   "metadata": {},
   "outputs": [
    {
     "name": "stdout",
     "output_type": "stream",
     "text": [
      "Model: \"sequential\"\n",
      "_________________________________________________________________\n",
      " Layer (type)                Output Shape              Param #   \n",
      "=================================================================\n",
      " lstm (LSTM)                 (None, 10, 50)            10400     \n",
      "                                                                 \n",
      " lstm_1 (LSTM)               (None, 10, 50)            20200     \n",
      "                                                                 \n",
      " lstm_2 (LSTM)               (None, 50)                20200     \n",
      "                                                                 \n",
      " dense (Dense)               (None, 1)                 51        \n",
      "                                                                 \n",
      "=================================================================\n",
      "Total params: 50,851\n",
      "Trainable params: 50,851\n",
      "Non-trainable params: 0\n",
      "_________________________________________________________________\n"
     ]
    }
   ],
   "source": [
    "model.summary()"
   ]
  },
  {
   "cell_type": "code",
   "execution_count": 24,
   "id": "d3181bb0",
   "metadata": {},
   "outputs": [],
   "source": [
    "model.compile(loss='mean_squared_error',optimizer='adam')"
   ]
  },
  {
   "cell_type": "markdown",
   "id": "4247f783",
   "metadata": {},
   "source": [
    "### Training the model"
   ]
  },
  {
   "cell_type": "code",
   "execution_count": 25,
   "id": "f5159e97",
   "metadata": {
    "scrolled": true
   },
   "outputs": [
    {
     "name": "stdout",
     "output_type": "stream",
     "text": [
      "Epoch 1/50\n",
      "103/103 [==============================] - 11s 37ms/step - loss: 0.0047 - val_loss: 5.9361e-04\n",
      "Epoch 2/50\n",
      "103/103 [==============================] - 2s 19ms/step - loss: 3.6196e-04 - val_loss: 4.4070e-04\n",
      "Epoch 3/50\n",
      "103/103 [==============================] - 2s 20ms/step - loss: 3.5368e-04 - val_loss: 4.2582e-04\n",
      "Epoch 4/50\n",
      "103/103 [==============================] - 2s 20ms/step - loss: 3.6520e-04 - val_loss: 6.0172e-04\n",
      "Epoch 5/50\n",
      "103/103 [==============================] - 2s 19ms/step - loss: 3.7962e-04 - val_loss: 7.0784e-04\n",
      "Epoch 6/50\n",
      "103/103 [==============================] - 2s 19ms/step - loss: 3.2720e-04 - val_loss: 7.0011e-04\n",
      "Epoch 7/50\n",
      "103/103 [==============================] - 2s 20ms/step - loss: 3.2756e-04 - val_loss: 4.1098e-04\n",
      "Epoch 8/50\n",
      "103/103 [==============================] - 2s 20ms/step - loss: 3.2473e-04 - val_loss: 5.5840e-04\n",
      "Epoch 9/50\n",
      "103/103 [==============================] - 2s 20ms/step - loss: 3.1654e-04 - val_loss: 6.9567e-04\n",
      "Epoch 10/50\n",
      "103/103 [==============================] - 2s 20ms/step - loss: 3.2625e-04 - val_loss: 3.9602e-04\n",
      "Epoch 11/50\n",
      "103/103 [==============================] - 2s 20ms/step - loss: 2.9740e-04 - val_loss: 5.3409e-04\n",
      "Epoch 12/50\n",
      "103/103 [==============================] - 2s 20ms/step - loss: 2.8468e-04 - val_loss: 4.1455e-04\n",
      "Epoch 13/50\n",
      "103/103 [==============================] - 2s 20ms/step - loss: 2.7545e-04 - val_loss: 3.3089e-04\n",
      "Epoch 14/50\n",
      "103/103 [==============================] - 2s 21ms/step - loss: 2.6523e-04 - val_loss: 3.8057e-04\n",
      "Epoch 15/50\n",
      "103/103 [==============================] - 2s 20ms/step - loss: 2.6187e-04 - val_loss: 7.4045e-04\n",
      "Epoch 16/50\n",
      "103/103 [==============================] - 2s 19ms/step - loss: 2.7108e-04 - val_loss: 4.9852e-04\n",
      "Epoch 17/50\n",
      "103/103 [==============================] - 2s 21ms/step - loss: 2.7540e-04 - val_loss: 2.3102e-04\n",
      "Epoch 18/50\n",
      "103/103 [==============================] - 2s 20ms/step - loss: 2.1254e-04 - val_loss: 2.2780e-04\n",
      "Epoch 19/50\n",
      "103/103 [==============================] - 2s 21ms/step - loss: 1.9357e-04 - val_loss: 1.9321e-04\n",
      "Epoch 20/50\n",
      "103/103 [==============================] - 2s 23ms/step - loss: 1.9573e-04 - val_loss: 4.0056e-04\n",
      "Epoch 21/50\n",
      "103/103 [==============================] - 2s 23ms/step - loss: 1.7511e-04 - val_loss: 2.7505e-04\n",
      "Epoch 22/50\n",
      "103/103 [==============================] - 2s 20ms/step - loss: 1.5603e-04 - val_loss: 4.1230e-04\n",
      "Epoch 23/50\n",
      "103/103 [==============================] - 2s 22ms/step - loss: 1.6496e-04 - val_loss: 1.5502e-04\n",
      "Epoch 24/50\n",
      "103/103 [==============================] - 2s 23ms/step - loss: 1.5636e-04 - val_loss: 1.7209e-04\n",
      "Epoch 25/50\n",
      "103/103 [==============================] - 2s 21ms/step - loss: 1.3568e-04 - val_loss: 1.7886e-04\n",
      "Epoch 26/50\n",
      "103/103 [==============================] - 2s 21ms/step - loss: 1.3364e-04 - val_loss: 4.0743e-04\n",
      "Epoch 27/50\n",
      "103/103 [==============================] - 2s 22ms/step - loss: 1.4661e-04 - val_loss: 1.3432e-04\n",
      "Epoch 28/50\n",
      "103/103 [==============================] - 2s 21ms/step - loss: 1.3378e-04 - val_loss: 2.0911e-04\n",
      "Epoch 29/50\n",
      "103/103 [==============================] - 2s 21ms/step - loss: 1.1606e-04 - val_loss: 1.1438e-04\n",
      "Epoch 30/50\n",
      "103/103 [==============================] - 2s 21ms/step - loss: 1.0623e-04 - val_loss: 1.1370e-04\n",
      "Epoch 31/50\n",
      "103/103 [==============================] - 2s 23ms/step - loss: 1.1397e-04 - val_loss: 1.1739e-04\n",
      "Epoch 32/50\n",
      "103/103 [==============================] - 2s 21ms/step - loss: 1.0109e-04 - val_loss: 1.0353e-04\n",
      "Epoch 33/50\n",
      "103/103 [==============================] - 2s 22ms/step - loss: 1.1001e-04 - val_loss: 3.3400e-04\n",
      "Epoch 34/50\n",
      "103/103 [==============================] - 2s 20ms/step - loss: 9.8102e-05 - val_loss: 2.2727e-04\n",
      "Epoch 35/50\n",
      "103/103 [==============================] - 2s 20ms/step - loss: 1.0497e-04 - val_loss: 1.0489e-04\n",
      "Epoch 36/50\n",
      "103/103 [==============================] - 2s 20ms/step - loss: 1.0721e-04 - val_loss: 9.9690e-05\n",
      "Epoch 37/50\n",
      "103/103 [==============================] - 2s 21ms/step - loss: 9.3478e-05 - val_loss: 1.5906e-04\n",
      "Epoch 38/50\n",
      "103/103 [==============================] - 2s 22ms/step - loss: 9.8090e-05 - val_loss: 2.7781e-04\n",
      "Epoch 39/50\n",
      "103/103 [==============================] - 2s 23ms/step - loss: 1.0651e-04 - val_loss: 2.0530e-04\n",
      "Epoch 40/50\n",
      "103/103 [==============================] - 2s 20ms/step - loss: 8.9924e-05 - val_loss: 9.7367e-05\n",
      "Epoch 41/50\n",
      "103/103 [==============================] - 2s 21ms/step - loss: 8.9842e-05 - val_loss: 2.7632e-04\n",
      "Epoch 42/50\n",
      "103/103 [==============================] - 2s 20ms/step - loss: 9.2917e-05 - val_loss: 9.0034e-05\n",
      "Epoch 43/50\n",
      "103/103 [==============================] - 2s 22ms/step - loss: 8.8109e-05 - val_loss: 8.9898e-05\n",
      "Epoch 44/50\n",
      "103/103 [==============================] - 2s 21ms/step - loss: 8.6015e-05 - val_loss: 2.6128e-04\n",
      "Epoch 45/50\n",
      "103/103 [==============================] - 2s 21ms/step - loss: 9.0818e-05 - val_loss: 9.6741e-05\n",
      "Epoch 46/50\n",
      "103/103 [==============================] - 2s 21ms/step - loss: 8.5968e-05 - val_loss: 2.8623e-04\n",
      "Epoch 47/50\n",
      "103/103 [==============================] - 2s 22ms/step - loss: 9.3902e-05 - val_loss: 1.0186e-04\n",
      "Epoch 48/50\n",
      "103/103 [==============================] - 2s 21ms/step - loss: 8.4828e-05 - val_loss: 1.2121e-04\n",
      "Epoch 49/50\n",
      "103/103 [==============================] - 2s 21ms/step - loss: 9.2859e-05 - val_loss: 9.0918e-05\n",
      "Epoch 50/50\n",
      "103/103 [==============================] - 3s 25ms/step - loss: 9.8838e-05 - val_loss: 9.4682e-05\n"
     ]
    }
   ],
   "source": [
    "history=model.fit(x_train,y_train,validation_data=(x_test,y_test),epochs=50,batch_size=64,verbose=1)"
   ]
  },
  {
   "cell_type": "markdown",
   "id": "92d22515",
   "metadata": {},
   "source": [
    "### Model evaluation"
   ]
  },
  {
   "cell_type": "code",
   "execution_count": 26,
   "id": "fc9b6e77",
   "metadata": {},
   "outputs": [
    {
     "name": "stdout",
     "output_type": "stream",
     "text": [
      "206/206 [==============================] - 3s 6ms/step\n",
      "52/52 [==============================] - 0s 6ms/step\n"
     ]
    }
   ],
   "source": [
    "train_predict=model.predict(x_train)\n",
    "test_predict=model.predict(x_test)"
   ]
  },
  {
   "cell_type": "code",
   "execution_count": 27,
   "id": "ac3b6334",
   "metadata": {},
   "outputs": [],
   "source": [
    "train_predict=scaler.inverse_transform(train_predict)\n",
    "y_train=scaler.inverse_transform(y_train)\n",
    "test_predict=scaler.inverse_transform(test_predict)\n",
    "y_test=scaler.inverse_transform(y_test)"
   ]
  },
  {
   "cell_type": "code",
   "execution_count": 31,
   "id": "603dbffd",
   "metadata": {},
   "outputs": [
    {
     "data": {
      "text/plain": [
       "1.1793771816776355"
      ]
     },
     "execution_count": 31,
     "metadata": {},
     "output_type": "execute_result"
    }
   ],
   "source": [
    "import math\n",
    "from sklearn.metrics import mean_squared_error\n",
    "from sklearn.metrics import mean_absolute_error\n",
    "math.sqrt(mean_squared_error(y_train,train_predict))"
   ]
  },
  {
   "cell_type": "code",
   "execution_count": 29,
   "id": "f428d307",
   "metadata": {},
   "outputs": [
    {
     "data": {
      "image/png": "[encoded data removed]",
      "text/plain": [
       "<Figure size 576x288 with 1 Axes>"
      ]
     },
     "metadata": {
      "needs_background": "light"
     },
     "output_type": "display_data"
    }
   ],
   "source": [
    "plt.figure(figsize=(8,4))\n",
    "plt.plot(history.history['loss'],label='Train loss')\n",
    "plt.plot(history.history['val_loss'],label='Test loss')\n",
    "plt.show()"
   ]
  },
  {
   "cell_type": "code",
   "execution_count": 33,
   "id": "a52021d8",
   "metadata": {},
   "outputs": [
    {
     "name": "stdout",
     "output_type": "stream",
     "text": [
      "Train Mean Absolute Error: 0.723316827206291\n",
      "Train Root Mean Squared Error: 1.1793771816776355\n",
      "Test Mean Absolute Error: 0.988249098853107\n",
      "Test Root Mean Squared Error: 1.3141983934772166\n"
     ]
    },
    {
     "data": {
      "image/png": "[encoded data removed]",
      "text/plain": [
       "<Figure size 576x288 with 1 Axes>"
      ]
     },
     "metadata": {
      "needs_background": "light"
     },
     "output_type": "display_data"
    }
   ],
   "source": [
    "print('Train Mean Absolute Error:', mean_absolute_error(y_train, train_predict))\n",
    "print('Train Root Mean Squared Error:',np.sqrt(mean_squared_error(y_train, train_predict)))\n",
    "print('Test Mean Absolute Error:', mean_absolute_error(y_test, test_predict))\n",
    "print('Test Root Mean Squared Error:',np.sqrt(mean_squared_error(y_test, test_predict)))\n",
    "plt.figure(figsize=(8,4))\n",
    "plt.plot(history.history['loss'], label='Train Loss')\n",
    "plt.plot(history.history['val_loss'], label='Test Loss')\n",
    "plt.title('model loss')\n",
    "plt.ylabel('loss')\n",
    "plt.xlabel('epochs')\n",
    "plt.legend(loc='upper right')\n",
    "plt.show();"
   ]
  },
  {
   "cell_type": "markdown",
   "id": "f949db9a",
   "metadata": {},
   "source": [
    "### saving and testing the model"
   ]
  },
  {
   "cell_type": "code",
   "execution_count": 34,
   "id": "e7354c1d",
   "metadata": {},
   "outputs": [],
   "source": [
    "from tensorflow.keras.models import load_model\n",
    "model.save(\"crude_oil_forecasting.h5\")"
   ]
  },
  {
   "cell_type": "code",
   "execution_count": 35,
   "id": "16f05bbb",
   "metadata": {},
   "outputs": [
    {
     "data": {
      "image/png": "[encoded data removed]",
      "text/plain": [
       "<Figure size 432x288 with 1 Axes>"
      ]
     },
     "metadata": {
      "needs_background": "light"
     },
     "output_type": "display_data"
    }
   ],
   "source": [
    "look_back=10\n",
    "trainPredictPlot=np.empty_like(data)\n",
    "trainPredictPlot[:,:]=np.nan\n",
    "trainPredictPlot[look_back:len(train_predict)+look_back,:]=train_predict\n",
    "\n",
    "testPredictPlot=np.empty_like(data)\n",
    "testPredictPlot[:,:]=np.nan\n",
    "testPredictPlot[len(train_predict)+(look_back*2)+1:len(data)-1,:]=test_predict\n",
    "\n",
    "plt.plot(scaler.inverse_transform(data))\n",
    "plt.plot(trainPredictPlot)\n",
    "plt.plot(testPredictPlot)\n",
    "plt.show()"
   ]
  },
  {
   "cell_type": "code",
   "execution_count": 36,
   "id": "a2512296",
   "metadata": {},
   "outputs": [
    {
     "data": {
      "text/plain": [
       "1644"
      ]
     },
     "execution_count": 36,
     "metadata": {},
     "output_type": "execute_result"
    }
   ],
   "source": [
    "len(test_data)"
   ]
  },
  {
   "cell_type": "code",
   "execution_count": 37,
   "id": "67e1229f",
   "metadata": {},
   "outputs": [
    {
     "data": {
      "text/plain": [
       "(1, 10)"
      ]
     },
     "execution_count": 37,
     "metadata": {},
     "output_type": "execute_result"
    }
   ],
   "source": [
    "x_input=test_data[1634:].reshape(1,-1)\n",
    "x_input.shape"
   ]
  },
  {
   "cell_type": "code",
   "execution_count": 38,
   "id": "426e0750",
   "metadata": {},
   "outputs": [
    {
     "data": {
      "text/plain": [
       "[0.44172960165852215,\n",
       " 0.48111950244335855,\n",
       " 0.49726047682511476,\n",
       " 0.4679401747371539,\n",
       " 0.4729749740855915,\n",
       " 0.47119798608026064,\n",
       " 0.47341922108692425,\n",
       " 0.4649785280616022,\n",
       " 0.4703835332444839,\n",
       " 0.47149415074781587]"
      ]
     },
     "execution_count": 38,
     "metadata": {},
     "output_type": "execute_result"
    }
   ],
   "source": [
    "temp_input=list(x_input)\n",
    "temp_input=temp_input[0].tolist()\n",
    "temp_input"
   ]
  },
  {
   "cell_type": "code",
   "execution_count": 39,
   "id": "d0f308d6",
   "metadata": {},
   "outputs": [
    {
     "name": "stdout",
     "output_type": "stream",
     "text": [
      "[0.4743662]\n",
      "11\n",
      "1 day input [0.4811195  0.49726048 0.46794017 0.47297497 0.47119799 0.47341922\n",
      " 0.46497853 0.47038353 0.47149415 0.47436619]\n",
      "1 day output [[0.4775791]]\n",
      "2 day input [0.49726048 0.46794017 0.47297497 0.47119799 0.47341922 0.46497853\n",
      " 0.47038353 0.47149415 0.47436619 0.47757909]\n",
      "2 day output [[0.48077372]]\n",
      "3 day input [0.46794017 0.47297497 0.47119799 0.47341922 0.46497853 0.47038353\n",
      " 0.47149415 0.47436619 0.47757909 0.48077372]\n",
      "3 day output [[0.48376465]]\n",
      "4 day input [0.47297497 0.47119799 0.47341922 0.46497853 0.47038353 0.47149415\n",
      " 0.47436619 0.47757909 0.48077372 0.48376465]\n",
      "4 day output [[0.48677188]]\n",
      "5 day input [0.47119799 0.47341922 0.46497853 0.47038353 0.47149415 0.47436619\n",
      " 0.47757909 0.48077372 0.48376465 0.48677188]\n",
      "5 day output [[0.489687]]\n",
      "6 day input [0.47341922 0.46497853 0.47038353 0.47149415 0.47436619 0.47757909\n",
      " 0.48077372 0.48376465 0.48677188 0.489687  ]\n",
      "6 day output [[0.49253264]]\n",
      "7 day input [0.46497853 0.47038353 0.47149415 0.47436619 0.47757909 0.48077372\n",
      " 0.48376465 0.48677188 0.489687   0.49253264]\n",
      "7 day output [[0.495307]]\n",
      "8 day input [0.47038353 0.47149415 0.47436619 0.47757909 0.48077372 0.48376465\n",
      " 0.48677188 0.489687   0.49253264 0.495307  ]\n",
      "8 day output [[0.49811363]]\n",
      "9 day input [0.47149415 0.47436619 0.47757909 0.48077372 0.48376465 0.48677188\n",
      " 0.489687   0.49253264 0.495307   0.49811363]\n",
      "9 day output [[0.50092536]]\n"
     ]
    }
   ],
   "source": [
    "lst_output=[]\n",
    "n_steps=10\n",
    "i=0\n",
    "while(i<10):\n",
    "    if(len(temp_input)>10):\n",
    "        x_input=np.array(temp_input[1:])\n",
    "        print(\"{} day input {}\".format(i,x_input))\n",
    "        x_input=x_input.reshape(1,-1)\n",
    "        x_input=x_input.reshape(1,n_steps,1)\n",
    "        \n",
    "        yhat = model.predict(x_input, verbose=0)\n",
    "        print(\"{} day output {}\".format(i,yhat))\n",
    "        temp_input.extend(yhat[0].tolist())\n",
    "        temp_input=temp_input[1:]\n",
    "        lst_output.extend(yhat.tolist())\n",
    "        i+=1\n",
    "    else:\n",
    "        x_input=x_input.reshape(1,n_steps,1)\n",
    "        yhat = model.predict(x_input, verbose=0)\n",
    "        \n",
    "        print(yhat[0])\n",
    "        temp_input.extend(yhat[0].tolist())\n",
    "        print(len(temp_input))\n",
    "        lst_output.extend(yhat.tolist())\n",
    "        i=i+1"
   ]
  },
  {
   "cell_type": "code",
   "execution_count": 40,
   "id": "b95d9769",
   "metadata": {},
   "outputs": [
    {
     "data": {
      "text/plain": [
       "8216"
      ]
     },
     "execution_count": 40,
     "metadata": {},
     "output_type": "execute_result"
    }
   ],
   "source": [
    "day_new=np.arange(1,11)\n",
    "day_pred=np.arange(11,21)\n",
    "len(data)"
   ]
  },
  {
   "cell_type": "code",
   "execution_count": 41,
   "id": "c524213e",
   "metadata": {},
   "outputs": [
    {
     "data": {
      "text/plain": [
       "[<matplotlib.lines.Line2D at 0x1edafbb47f0>]"
      ]
     },
     "execution_count": 41,
     "metadata": {},
     "output_type": "execute_result"
    },
    {
     "data": {
      "image/png": "[encoded data removed]",
      "text/plain": [
       "<Figure size 432x288 with 1 Axes>"
      ]
     },
     "metadata": {
      "needs_background": "light"
     },
     "output_type": "display_data"
    }
   ],
   "source": [
    "plt.plot(day_new,scaler.inverse_transform(data[8206:]))\n",
    "plt.plot(day_new,scaler.inverse_transform(lst_output))"
   ]
  },
  {
   "cell_type": "code",
   "execution_count": 42,
   "id": "eb8a4c48",
   "metadata": {},
   "outputs": [
    {
     "data": {
      "text/plain": [
       "[<matplotlib.lines.Line2D at 0x1edc485f280>]"
      ]
     },
     "execution_count": 42,
     "metadata": {},
     "output_type": "execute_result"
    },
    {
     "data": {
      "image/png": "[encoded data removed]",
      "text/plain": [
       "<Figure size 432x288 with 1 Axes>"
      ]
     },
     "metadata": {
      "needs_background": "light"
     },
     "output_type": "display_data"
    }
   ],
   "source": [
    "df3=data.tolist()\n",
    "df3.extend(lst_output)\n",
    "plt.plot(df3[8100:])"
   ]
  },
  {
   "cell_type": "code",
   "execution_count": 43,
   "id": "544d32a6",
   "metadata": {},
   "outputs": [
    {
     "data": {
      "text/plain": [
       "[<matplotlib.lines.Line2D at 0x1edbaeca850>]"
      ]
     },
     "execution_count": 43,
     "metadata": {},
     "output_type": "execute_result"
    },
    {
     "data": {
      "image/png": "[encoded data removed]",
      "text/plain": [
       "<Figure size 432x288 with 1 Axes>"
      ]
     },
     "metadata": {
      "needs_background": "light"
     },
     "output_type": "display_data"
    }
   ],
   "source": [
    "df3=scaler.inverse_transform(df3).tolist()\n",
    "plt.plot(df3)"
   ]
  },
  {
   "cell_type": "code",
   "execution_count": null,
   "id": "a1f4e0b9",
   "metadata": {},
   "outputs": [],
   "source": []
  }
 ],
 "metadata": {
  "kernelspec": {
   "display_name": "Python 3 (ipykernel)",
   "language": "python",
   "name": "python3"
  },
  "language_info": {
   "codemirror_mode": {
    "name": "ipython",
    "version": 3
   },
   "file_extension": ".py",
   "mimetype": "text/x-python",
   "name": "python",
   "nbconvert_exporter": "python",
   "pygments_lexer": "ipython3",
   "version": "3.9.12"
  }
 },
 "nbformat": 4,
 "nbformat_minor": 5
}
