{
 "cells": [
  {
   "cell_type": "markdown",
   "id": "f365e3e2",
   "metadata": {},
   "source": [
    "### Importing libraries"
   ]
  },
  {
   "cell_type": "code",
   "execution_count": 1,
   "id": "c155604c",
   "metadata": {},
   "outputs": [],
   "source": [
    "import pandas as pd\n",
    "import numpy as np\n",
    "import matplotlib.pyplot as plt"
   ]
  },
  {
   "cell_type": "code",
   "execution_count": 2,
   "id": "b31ef246",
   "metadata": {},
   "outputs": [],
   "source": [
    "import os"
   ]
  },
  {
   "cell_type": "markdown",
   "id": "24cbc796",
   "metadata": {},
   "source": [
    "### Importing the dataset"
   ]
  },
  {
   "cell_type": "code",
   "execution_count": 3,
   "id": "6a0616c4",
   "metadata": {},
   "outputs": [
    {
     "data": {
      "text/html": [
       "<div>\n",
       "<style scoped>\n",
       "    .dataframe tbody tr th:only-of-type {\n",
       "        vertical-align: middle;\n",
       "    }\n",
       "\n",
       "    .dataframe tbody tr th {\n",
       "        vertical-align: top;\n",
       "    }\n",
       "\n",
       "    .dataframe thead th {\n",
       "        text-align: right;\n",
       "    }\n",
       "</style>\n",
       "<table border=\"1\" class=\"dataframe\">\n",
       "  <thead>\n",
       "    <tr style=\"text-align: right;\">\n",
       "      <th></th>\n",
       "      <th>Date</th>\n",
       "      <th>Closing Value</th>\n",
       "    </tr>\n",
       "  </thead>\n",
       "  <tbody>\n",
       "    <tr>\n",
       "      <th>0</th>\n",
       "      <td>1986-01-02</td>\n",
       "      <td>25.56</td>\n",
       "    </tr>\n",
       "    <tr>\n",
       "      <th>1</th>\n",
       "      <td>1986-01-03</td>\n",
       "      <td>26.00</td>\n",
       "    </tr>\n",
       "    <tr>\n",
       "      <th>2</th>\n",
       "      <td>1986-01-06</td>\n",
       "      <td>26.53</td>\n",
       "    </tr>\n",
       "    <tr>\n",
       "      <th>3</th>\n",
       "      <td>1986-01-07</td>\n",
       "      <td>25.85</td>\n",
       "    </tr>\n",
       "    <tr>\n",
       "      <th>4</th>\n",
       "      <td>1986-01-08</td>\n",
       "      <td>25.87</td>\n",
       "    </tr>\n",
       "  </tbody>\n",
       "</table>\n",
       "</div>"
      ],
      "text/plain": [
       "        Date  Closing Value\n",
       "0 1986-01-02          25.56\n",
       "1 1986-01-03          26.00\n",
       "2 1986-01-06          26.53\n",
       "3 1986-01-07          25.85\n",
       "4 1986-01-08          25.87"
      ]
     },
     "execution_count": 3,
     "metadata": {},
     "output_type": "execute_result"
    }
   ],
   "source": [
    "data=pd.read_excel(r\"D:\\Crudeoil price prediction\\Crude Oil Prices Daily.xlsx\")\n",
    "data.head()"
   ]
  },
  {
   "cell_type": "markdown",
   "id": "a2a42297",
   "metadata": {},
   "source": [
    "### Handling missing values"
   ]
  },
  {
   "cell_type": "code",
   "execution_count": 4,
   "id": "e6582f4d",
   "metadata": {},
   "outputs": [
    {
     "data": {
      "text/plain": [
       "Date             False\n",
       "Closing Value     True\n",
       "dtype: bool"
      ]
     },
     "execution_count": 4,
     "metadata": {},
     "output_type": "execute_result"
    }
   ],
   "source": [
    "data.isnull().any()"
   ]
  },
  {
   "cell_type": "code",
   "execution_count": 5,
   "id": "7d40b3c1",
   "metadata": {},
   "outputs": [
    {
     "data": {
      "text/plain": [
       "Date             0\n",
       "Closing Value    7\n",
       "dtype: int64"
      ]
     },
     "execution_count": 5,
     "metadata": {},
     "output_type": "execute_result"
    }
   ],
   "source": [
    "data.isnull().sum()"
   ]
  },
  {
   "cell_type": "code",
   "execution_count": 6,
   "id": "32b31781",
   "metadata": {},
   "outputs": [],
   "source": [
    "data.dropna(axis=0,inplace=True)"
   ]
  },
  {
   "cell_type": "code",
   "execution_count": 7,
   "id": "cd243d4e",
   "metadata": {},
   "outputs": [],
   "source": [
    "data=data.reset_index()['Closing Value']"
   ]
  },
  {
   "cell_type": "code",
   "execution_count": 8,
   "id": "b65a8f82",
   "metadata": {},
   "outputs": [
    {
     "data": {
      "text/plain": [
       "0    25.56\n",
       "1    26.00\n",
       "2    26.53\n",
       "3    25.85\n",
       "4    25.87\n",
       "Name: Closing Value, dtype: float64"
      ]
     },
     "execution_count": 8,
     "metadata": {},
     "output_type": "execute_result"
    }
   ],
   "source": [
    "data.head()"
   ]
  },
  {
   "cell_type": "markdown",
   "id": "a1665fe6",
   "metadata": {},
   "source": [
    "### Feature scaling"
   ]
  },
  {
   "cell_type": "code",
   "execution_count": 9,
   "id": "c6e9ffb9",
   "metadata": {},
   "outputs": [],
   "source": [
    "from sklearn.preprocessing import MinMaxScaler\n",
    "scaler=MinMaxScaler(feature_range=(0,1))\n",
    "data=scaler.fit_transform(np.array(data).reshape(-1,1))"
   ]
  },
  {
   "cell_type": "code",
   "execution_count": 10,
   "id": "780a2eaa",
   "metadata": {},
   "outputs": [
    {
     "data": {
      "text/plain": [
       "array([[0.11335703],\n",
       "       [0.11661484],\n",
       "       [0.12053902],\n",
       "       ...,\n",
       "       [0.46497853],\n",
       "       [0.47038353],\n",
       "       [0.47149415]])"
      ]
     },
     "execution_count": 10,
     "metadata": {},
     "output_type": "execute_result"
    }
   ],
   "source": [
    "data"
   ]
  },
  {
   "cell_type": "code",
   "execution_count": 11,
   "id": "b8dd331a",
   "metadata": {},
   "outputs": [
    {
     "data": {
      "text/plain": [
       "8216"
      ]
     },
     "execution_count": 11,
     "metadata": {},
     "output_type": "execute_result"
    }
   ],
   "source": [
    "len(data)"
   ]
  },
  {
   "cell_type": "markdown",
   "id": "f562ac87",
   "metadata": {},
   "source": [
    "### Data visualization"
   ]
  },
  {
   "cell_type": "code",
   "execution_count": 12,
   "id": "8e0b8bdb",
   "metadata": {},
   "outputs": [
    {
     "data": {
      "image/png": "[encoded data removed]",
      "text/plain": [
       "<Figure size 432x288 with 1 Axes>"
      ]
     },
     "metadata": {
      "needs_background": "light"
     },
     "output_type": "display_data"
    }
   ],
   "source": [
    "plt.plot(data)\n",
    "plt.xlabel(\"Days\")\n",
    "plt.ylabel(\"Price\")\n",
    "plt.show()"
   ]
  },
  {
   "cell_type": "markdown",
   "id": "a20720c2",
   "metadata": {},
   "source": [
    "### Testing and training "
   ]
  },
  {
   "cell_type": "code",
   "execution_count": 49,
   "id": "72e9c730",
   "metadata": {},
   "outputs": [],
   "source": [
    "training_size=int(len(data)*0.80)\n",
    "testing_size=len(data)-training_size\n",
    "train_data,test_data=data[0:training_size],data[training_size:len(data)]"
   ]
  },
  {
   "cell_type": "code",
   "execution_count": 50,
   "id": "8f12ac0f",
   "metadata": {},
   "outputs": [
    {
     "data": {
      "text/plain": [
       "1644"
      ]
     },
     "execution_count": 50,
     "metadata": {},
     "output_type": "execute_result"
    }
   ],
   "source": [
    "train_data.shape\n",
    "len(test_data)"
   ]
  },
  {
   "cell_type": "markdown",
   "id": "0dd0a811",
   "metadata": {},
   "source": [
    "### Sliding window"
   ]
  },
  {
   "cell_type": "code",
   "execution_count": 51,
   "id": "b18c2b84",
   "metadata": {},
   "outputs": [],
   "source": [
    "def create_dataset(dataset,timestep):\n",
    "    dataX,dataY=[],[]\n",
    "    for i in range(len(dataset)-timestep-1):\n",
    "        a=dataset[i:(i+timestep),0]\n",
    "        dataX.append(a)\n",
    "        dataY.append(dataset[i+timestep,0])\n",
    "    return np.array(dataX),np.array(dataY)"
   ]
  },
  {
   "cell_type": "code",
   "execution_count": 52,
   "id": "fb8d0152",
   "metadata": {},
   "outputs": [],
   "source": [
    "time_step=10\n",
    "x_train,y_train=create_dataset(train_data,time_step)\n",
    "x_test,y_test=create_dataset(test_data,time_step)\n"
   ]
  },
  {
   "cell_type": "code",
   "execution_count": 54,
   "id": "24fc58a7",
   "metadata": {},
   "outputs": [],
   "source": [
    "y_train=y_train.reshape(-1,1)\n",
    "y_test=y_test.reshape(-1,1)"
   ]
  },
  {
   "cell_type": "code",
   "execution_count": 55,
   "id": "138ef836",
   "metadata": {},
   "outputs": [
    {
     "name": "stdout",
     "output_type": "stream",
     "text": [
      "(6561, 10)\n",
      "(1633, 1)\n"
     ]
    }
   ],
   "source": [
    "print(x_train.shape)\n",
    "print(y_test.shape)"
   ]
  },
  {
   "cell_type": "markdown",
   "id": "8103dc2e",
   "metadata": {},
   "source": [
    "### Model building"
   ]
  },
  {
   "cell_type": "code",
   "execution_count": 56,
   "id": "60af5bb0",
   "metadata": {},
   "outputs": [],
   "source": [
    "from tensorflow.keras.models import Sequential\n",
    "from tensorflow.keras.layers import Dense\n",
    "from tensorflow.keras.layers import LSTM"
   ]
  },
  {
   "cell_type": "code",
   "execution_count": 57,
   "id": "1d24709c",
   "metadata": {},
   "outputs": [],
   "source": [
    "model=Sequential()"
   ]
  },
  {
   "cell_type": "code",
   "execution_count": 58,
   "id": "a018dfd2",
   "metadata": {},
   "outputs": [],
   "source": [
    "model.add(LSTM(50,return_sequences=True,input_shape=(10,1)))\n",
    "model.add(LSTM(50,return_sequences=True))\n",
    "model.add(LSTM(50))"
   ]
  },
  {
   "cell_type": "code",
   "execution_count": 59,
   "id": "7fca9e9b",
   "metadata": {},
   "outputs": [],
   "source": [
    "model.add(Dense(1))"
   ]
  },
  {
   "cell_type": "code",
   "execution_count": 60,
   "id": "f7b8cd05",
   "metadata": {},
   "outputs": [
    {
     "name": "stdout",
     "output_type": "stream",
     "text": [
      "Model: \"sequential_1\"\n",
      "_________________________________________________________________\n",
      " Layer (type)                Output Shape              Param #   \n",
      "=================================================================\n",
      " lstm_3 (LSTM)               (None, 10, 50)            10400     \n",
      "                                                                 \n",
      " lstm_4 (LSTM)               (None, 10, 50)            20200     \n",
      "                                                                 \n",
      " lstm_5 (LSTM)               (None, 50)                20200     \n",
      "                                                                 \n",
      " dense_1 (Dense)             (None, 1)                 51        \n",
      "                                                                 \n",
      "=================================================================\n",
      "Total params: 50,851\n",
      "Trainable params: 50,851\n",
      "Non-trainable params: 0\n",
      "_________________________________________________________________\n"
     ]
    }
   ],
   "source": [
    "model.summary()"
   ]
  },
  {
   "cell_type": "code",
   "execution_count": 61,
   "id": "d3181bb0",
   "metadata": {},
   "outputs": [],
   "source": [
    "model.compile(loss='mean_squared_error',optimizer='adam')"
   ]
  },
  {
   "cell_type": "markdown",
   "id": "4247f783",
   "metadata": {},
   "source": [
    "### Training the model"
   ]
  },
  {
   "cell_type": "code",
   "execution_count": 62,
   "id": "f5159e97",
   "metadata": {
    "scrolled": true
   },
   "outputs": [
    {
     "name": "stdout",
     "output_type": "stream",
     "text": [
      "Epoch 1/50\n",
      "103/103 [==============================] - 11s 36ms/step - loss: 0.0057 - val_loss: 4.3634e-04\n",
      "Epoch 2/50\n",
      "103/103 [==============================] - 2s 21ms/step - loss: 3.5613e-04 - val_loss: 4.3645e-04\n",
      "Epoch 3/50\n",
      "103/103 [==============================] - 2s 20ms/step - loss: 3.3533e-04 - val_loss: 5.4420e-04\n",
      "Epoch 4/50\n",
      "103/103 [==============================] - 2s 20ms/step - loss: 3.4572e-04 - val_loss: 6.7273e-04\n",
      "Epoch 5/50\n",
      "103/103 [==============================] - 2s 20ms/step - loss: 3.3690e-04 - val_loss: 4.4779e-04\n",
      "Epoch 6/50\n",
      "103/103 [==============================] - 2s 21ms/step - loss: 3.3063e-04 - val_loss: 4.3494e-04\n",
      "Epoch 7/50\n",
      "103/103 [==============================] - 2s 21ms/step - loss: 3.3418e-04 - val_loss: 3.8758e-04\n",
      "Epoch 8/50\n",
      "103/103 [==============================] - 2s 20ms/step - loss: 3.0717e-04 - val_loss: 3.4249e-04\n",
      "Epoch 9/50\n",
      "103/103 [==============================] - 2s 21ms/step - loss: 3.1058e-04 - val_loss: 4.1184e-04\n",
      "Epoch 10/50\n",
      "103/103 [==============================] - 2s 21ms/step - loss: 2.9424e-04 - val_loss: 3.7918e-04\n",
      "Epoch 11/50\n",
      "103/103 [==============================] - 2s 21ms/step - loss: 3.0647e-04 - val_loss: 3.0015e-04\n",
      "Epoch 12/50\n",
      "103/103 [==============================] - 2s 22ms/step - loss: 2.6532e-04 - val_loss: 2.9078e-04\n",
      "Epoch 13/50\n",
      "103/103 [==============================] - 2s 21ms/step - loss: 2.3963e-04 - val_loss: 0.0013\n",
      "Epoch 14/50\n",
      "103/103 [==============================] - 2s 21ms/step - loss: 2.5624e-04 - val_loss: 3.2136e-04\n",
      "Epoch 15/50\n",
      "103/103 [==============================] - 2s 21ms/step - loss: 2.4325e-04 - val_loss: 7.7003e-04\n",
      "Epoch 16/50\n",
      "103/103 [==============================] - 2s 21ms/step - loss: 2.1746e-04 - val_loss: 5.5304e-04\n",
      "Epoch 17/50\n",
      "103/103 [==============================] - 2s 21ms/step - loss: 2.0568e-04 - val_loss: 2.1744e-04\n",
      "Epoch 18/50\n",
      "103/103 [==============================] - 2s 21ms/step - loss: 2.0387e-04 - val_loss: 1.8901e-04\n",
      "Epoch 19/50\n",
      "103/103 [==============================] - 2s 21ms/step - loss: 1.8830e-04 - val_loss: 2.2478e-04\n",
      "Epoch 20/50\n",
      "103/103 [==============================] - 2s 21ms/step - loss: 1.8913e-04 - val_loss: 1.8157e-04\n",
      "Epoch 21/50\n",
      "103/103 [==============================] - 2s 21ms/step - loss: 2.0092e-04 - val_loss: 1.8307e-04\n",
      "Epoch 22/50\n",
      "103/103 [==============================] - 2s 21ms/step - loss: 1.6634e-04 - val_loss: 1.8528e-04\n",
      "Epoch 23/50\n",
      "103/103 [==============================] - 2s 22ms/step - loss: 1.5146e-04 - val_loss: 3.3819e-04\n",
      "Epoch 24/50\n",
      "103/103 [==============================] - 2s 21ms/step - loss: 1.4556e-04 - val_loss: 1.7735e-04\n",
      "Epoch 25/50\n",
      "103/103 [==============================] - 2s 21ms/step - loss: 1.2465e-04 - val_loss: 1.3419e-04\n",
      "Epoch 26/50\n",
      "103/103 [==============================] - 2s 21ms/step - loss: 1.2514e-04 - val_loss: 1.2884e-04\n",
      "Epoch 27/50\n",
      "103/103 [==============================] - 2s 21ms/step - loss: 1.1378e-04 - val_loss: 1.2250e-04\n",
      "Epoch 28/50\n",
      "103/103 [==============================] - 2s 21ms/step - loss: 1.1340e-04 - val_loss: 1.2361e-04\n",
      "Epoch 29/50\n",
      "103/103 [==============================] - 2s 22ms/step - loss: 1.2977e-04 - val_loss: 2.5366e-04\n",
      "Epoch 30/50\n",
      "103/103 [==============================] - 2s 23ms/step - loss: 1.0973e-04 - val_loss: 1.4590e-04\n",
      "Epoch 31/50\n",
      "103/103 [==============================] - 2s 22ms/step - loss: 1.0876e-04 - val_loss: 1.0364e-04\n",
      "Epoch 32/50\n",
      "103/103 [==============================] - 2s 21ms/step - loss: 1.0277e-04 - val_loss: 1.0609e-04\n",
      "Epoch 33/50\n",
      "103/103 [==============================] - 2s 21ms/step - loss: 1.2698e-04 - val_loss: 4.1339e-04\n",
      "Epoch 34/50\n",
      "103/103 [==============================] - 2s 21ms/step - loss: 1.0164e-04 - val_loss: 1.0674e-04\n",
      "Epoch 35/50\n",
      "103/103 [==============================] - 2s 21ms/step - loss: 1.0456e-04 - val_loss: 9.7816e-05\n",
      "Epoch 36/50\n",
      "103/103 [==============================] - 2s 22ms/step - loss: 1.0038e-04 - val_loss: 9.8507e-05\n",
      "Epoch 37/50\n",
      "103/103 [==============================] - 2s 21ms/step - loss: 9.5359e-05 - val_loss: 2.2442e-04\n",
      "Epoch 38/50\n",
      "103/103 [==============================] - 2s 21ms/step - loss: 9.0670e-05 - val_loss: 1.2122e-04\n",
      "Epoch 39/50\n",
      "103/103 [==============================] - 2s 22ms/step - loss: 8.8537e-05 - val_loss: 9.6537e-05\n",
      "Epoch 40/50\n",
      "103/103 [==============================] - 2s 22ms/step - loss: 9.8706e-05 - val_loss: 9.1738e-05\n",
      "Epoch 41/50\n",
      "103/103 [==============================] - 2s 22ms/step - loss: 9.0236e-05 - val_loss: 1.2402e-04\n",
      "Epoch 42/50\n",
      "103/103 [==============================] - 2s 22ms/step - loss: 8.8907e-05 - val_loss: 9.0530e-05\n",
      "Epoch 43/50\n",
      "103/103 [==============================] - 2s 22ms/step - loss: 1.0101e-04 - val_loss: 1.6691e-04\n",
      "Epoch 44/50\n",
      "103/103 [==============================] - 2s 22ms/step - loss: 9.9156e-05 - val_loss: 9.5087e-05\n",
      "Epoch 45/50\n",
      "103/103 [==============================] - 3s 25ms/step - loss: 9.5094e-05 - val_loss: 1.0034e-04\n",
      "Epoch 46/50\n",
      "103/103 [==============================] - 2s 23ms/step - loss: 8.5822e-05 - val_loss: 8.9461e-05\n",
      "Epoch 47/50\n",
      "103/103 [==============================] - 2s 21ms/step - loss: 9.3205e-05 - val_loss: 9.2179e-05\n",
      "Epoch 48/50\n",
      "103/103 [==============================] - 2s 21ms/step - loss: 8.2885e-05 - val_loss: 8.8833e-05\n",
      "Epoch 49/50\n",
      "103/103 [==============================] - 2s 24ms/step - loss: 9.3296e-05 - val_loss: 8.8626e-05\n",
      "Epoch 50/50\n",
      "103/103 [==============================] - 2s 22ms/step - loss: 1.1468e-04 - val_loss: 9.5881e-05\n"
     ]
    }
   ],
   "source": [
    "history=model.fit(x_train,y_train,validation_data=(x_test,y_test),epochs=50,batch_size=64,verbose=1)"
   ]
  },
  {
   "cell_type": "markdown",
   "id": "92d22515",
   "metadata": {},
   "source": [
    "### Model evaluation"
   ]
  },
  {
   "cell_type": "code",
   "execution_count": 63,
   "id": "fc9b6e77",
   "metadata": {},
   "outputs": [
    {
     "name": "stdout",
     "output_type": "stream",
     "text": [
      "206/206 [==============================] - 3s 6ms/step\n",
      "52/52 [==============================] - 0s 6ms/step\n"
     ]
    }
   ],
   "source": [
    "train_predict=model.predict(x_train)\n",
    "test_predict=model.predict(x_test)"
   ]
  },
  {
   "cell_type": "code",
   "execution_count": 64,
   "id": "ac3b6334",
   "metadata": {},
   "outputs": [],
   "source": [
    "train_predict=scaler.inverse_transform(train_predict)\n",
    "y_train=scaler.inverse_transform(y_train)\n",
    "test_predict=scaler.inverse_transform(test_predict)\n",
    "y_test=scaler.inverse_transform(y_test)"
   ]
  },
  {
   "cell_type": "code",
   "execution_count": 65,
   "id": "603dbffd",
   "metadata": {},
   "outputs": [
    {
     "data": {
      "text/plain": [
       "1.201985203053853"
      ]
     },
     "execution_count": 65,
     "metadata": {},
     "output_type": "execute_result"
    }
   ],
   "source": [
    "import math\n",
    "from sklearn.metrics import mean_squared_error\n",
    "math.sqrt(mean_squared_error(y_train,train_predict))"
   ]
  },
  {
   "cell_type": "code",
   "execution_count": 66,
   "id": "f428d307",
   "metadata": {},
   "outputs": [
    {
     "data": {
      "image/png": "[encoded data removed]",
      "text/plain": [
       "<Figure size 576x288 with 1 Axes>"
      ]
     },
     "metadata": {
      "needs_background": "light"
     },
     "output_type": "display_data"
    }
   ],
   "source": [
    "plt.figure(figsize=(8,4))\n",
    "plt.plot(history.history['loss'],label='Train loss')\n",
    "plt.plot(history.history['val_loss'],label='Test loss')\n",
    "plt.show()"
   ]
  },
  {
   "cell_type": "markdown",
   "id": "f949db9a",
   "metadata": {},
   "source": [
    "### saving and testing the model"
   ]
  },
  {
   "cell_type": "code",
   "execution_count": 67,
   "id": "e7354c1d",
   "metadata": {},
   "outputs": [],
   "source": [
    "from tensorflow.keras.models import load_model\n",
    "model.save(\"crude_oil_forecasting.h5\")"
   ]
  },
  {
   "cell_type": "code",
   "execution_count": 69,
   "id": "16f05bbb",
   "metadata": {},
   "outputs": [
    {
     "data": {
      "image/png": "[encoded data removed]",
      "text/plain": [
       "<Figure size 432x288 with 1 Axes>"
      ]
     },
     "metadata": {
      "needs_background": "light"
     },
     "output_type": "display_data"
    }
   ],
   "source": [
    "look_back=10\n",
    "trainPredictPlot=np.empty_like(data)\n",
    "trainPredictPlot[:,:]=np.nan\n",
    "trainPredictPlot[look_back:len(train_predict)+look_back,:]=train_predict\n",
    "\n",
    "testPredictPlot=np.empty_like(data)\n",
    "testPredictPlot[:,:]=np.nan\n",
    "testPredictPlot[len(train_predict)+(look_back*2)+1:len(data)-1,:]=test_predict\n",
    "\n",
    "plt.plot(scaler.inverse_transform(data))\n",
    "plt.plot(trainPredictPlot)\n",
    "plt.plot(testPredictPlot)\n",
    "plt.show()"
   ]
  },
  {
   "cell_type": "code",
   "execution_count": 70,
   "id": "a2512296",
   "metadata": {},
   "outputs": [
    {
     "data": {
      "text/plain": [
       "1644"
      ]
     },
     "execution_count": 70,
     "metadata": {},
     "output_type": "execute_result"
    }
   ],
   "source": [
    "len(test_data)"
   ]
  },
  {
   "cell_type": "code",
   "execution_count": 71,
   "id": "67e1229f",
   "metadata": {},
   "outputs": [
    {
     "data": {
      "text/plain": [
       "(1, 10)"
      ]
     },
     "execution_count": 71,
     "metadata": {},
     "output_type": "execute_result"
    }
   ],
   "source": [
    "x_input=test_data[1634:].reshape(1,-1)\n",
    "x_input.shape"
   ]
  },
  {
   "cell_type": "code",
   "execution_count": 73,
   "id": "426e0750",
   "metadata": {},
   "outputs": [
    {
     "data": {
      "text/plain": [
       "[0.44172960165852215,\n",
       " 0.48111950244335855,\n",
       " 0.49726047682511476,\n",
       " 0.4679401747371539,\n",
       " 0.4729749740855915,\n",
       " 0.47119798608026064,\n",
       " 0.47341922108692425,\n",
       " 0.4649785280616022,\n",
       " 0.4703835332444839,\n",
       " 0.47149415074781587]"
      ]
     },
     "execution_count": 73,
     "metadata": {},
     "output_type": "execute_result"
    }
   ],
   "source": [
    "temp_input=list(x_input)\n",
    "temp_input=temp_input[0].tolist()\n",
    "temp_input"
   ]
  },
  {
   "cell_type": "code",
   "execution_count": 76,
   "id": "d0f308d6",
   "metadata": {},
   "outputs": [
    {
     "name": "stdout",
     "output_type": "stream",
     "text": [
      "[0.47472608]\n",
      "11\n",
      "1 day input [0.4811195  0.49726048 0.46794017 0.47297497 0.47119799 0.47341922\n",
      " 0.46497853 0.47038353 0.47149415 0.47472608]\n",
      "1 day output [[0.47818857]]\n",
      "2 day input [0.49726048 0.46794017 0.47297497 0.47119799 0.47341922 0.46497853\n",
      " 0.47038353 0.47149415 0.47472608 0.47818857]\n",
      "2 day output [[0.48155242]]\n",
      "3 day input [0.46794017 0.47297497 0.47119799 0.47341922 0.46497853 0.47038353\n",
      " 0.47149415 0.47472608 0.47818857 0.48155242]\n",
      "3 day output [[0.48464656]]\n",
      "4 day input [0.47297497 0.47119799 0.47341922 0.46497853 0.47038353 0.47149415\n",
      " 0.47472608 0.47818857 0.48155242 0.48464656]\n",
      "4 day output [[0.48771197]]\n",
      "5 day input [0.47119799 0.47341922 0.46497853 0.47038353 0.47149415 0.47472608\n",
      " 0.47818857 0.48155242 0.48464656 0.48771197]\n",
      "5 day output [[0.4906423]]\n",
      "6 day input [0.47341922 0.46497853 0.47038353 0.47149415 0.47472608 0.47818857\n",
      " 0.48155242 0.48464656 0.48771197 0.49064231]\n",
      "6 day output [[0.4934774]]\n",
      "7 day input [0.46497853 0.47038353 0.47149415 0.47472608 0.47818857 0.48155242\n",
      " 0.48464656 0.48771197 0.49064231 0.4934774 ]\n",
      "7 day output [[0.49622685]]\n",
      "8 day input [0.47038353 0.47149415 0.47472608 0.47818857 0.48155242 0.48464656\n",
      " 0.48771197 0.49064231 0.4934774  0.49622685]\n",
      "8 day output [[0.49900526]]\n",
      "9 day input [0.47149415 0.47472608 0.47818857 0.48155242 0.48464656 0.48771197\n",
      " 0.49064231 0.4934774  0.49622685 0.49900526]\n",
      "9 day output [[0.50178546]]\n"
     ]
    }
   ],
   "source": [
    "lst_output=[]\n",
    "n_steps=10\n",
    "i=0\n",
    "while(i<10):\n",
    "    if(len(temp_input)>10):\n",
    "        x_input=np.array(temp_input[1:])\n",
    "        print(\"{} day input {}\".format(i,x_input))\n",
    "        x_input=x_input.reshape(1,-1)\n",
    "        x_input=x_input.reshape(1,n_steps,1)\n",
    "        \n",
    "        yhat = model.predict(x_input, verbose=0)\n",
    "        print(\"{} day output {}\".format(i,yhat))\n",
    "        temp_input.extend(yhat[0].tolist())\n",
    "        temp_input=temp_input[1:]\n",
    "        lst_output.extend(yhat.tolist())\n",
    "        i+=1\n",
    "    else:\n",
    "        x_input=x_input.reshape(1,n_steps,1)\n",
    "        yhat = model.predict(x_input, verbose=0)\n",
    "        \n",
    "        print(yhat[0])\n",
    "        temp_input.extend(yhat[0].tolist())\n",
    "        print(len(temp_input))\n",
    "        lst_output.extend(yhat.tolist())\n",
    "        i=i+1"
   ]
  },
  {
   "cell_type": "code",
   "execution_count": 78,
   "id": "b95d9769",
   "metadata": {},
   "outputs": [
    {
     "data": {
      "text/plain": [
       "8216"
      ]
     },
     "execution_count": 78,
     "metadata": {},
     "output_type": "execute_result"
    }
   ],
   "source": [
    "day_new=np.arange(1,11)\n",
    "day_pred=np.arange(11,21)\n",
    "len(data)"
   ]
  },
  {
   "cell_type": "code",
   "execution_count": 80,
   "id": "c524213e",
   "metadata": {},
   "outputs": [
    {
     "data": {
      "text/plain": [
       "[<matplotlib.lines.Line2D at 0x1a28a591a30>]"
      ]
     },
     "execution_count": 80,
     "metadata": {},
     "output_type": "execute_result"
    },
    {
     "data": {
      "image/png": "[encoded data removed]",
      "text/plain": [
       "<Figure size 432x288 with 1 Axes>"
      ]
     },
     "metadata": {
      "needs_background": "light"
     },
     "output_type": "display_data"
    }
   ],
   "source": [
    "plt.plot(day_new,scaler.inverse_transform(data[8206:]))\n",
    "plt.plot(day_new,scaler.inverse_transform(lst_output))"
   ]
  },
  {
   "cell_type": "code",
   "execution_count": 81,
   "id": "eb8a4c48",
   "metadata": {},
   "outputs": [
    {
     "data": {
      "text/plain": [
       "[<matplotlib.lines.Line2D at 0x1a28b7b2ca0>]"
      ]
     },
     "execution_count": 81,
     "metadata": {},
     "output_type": "execute_result"
    },
    {
     "data": {
      "image/png": "[encoded data removed]",
      "text/plain": [
       "<Figure size 432x288 with 1 Axes>"
      ]
     },
     "metadata": {
      "needs_background": "light"
     },
     "output_type": "display_data"
    }
   ],
   "source": [
    "df3=data.tolist()\n",
    "df3.extend(lst_output)\n",
    "plt.plot(df3[8100:])"
   ]
  },
  {
   "cell_type": "code",
   "execution_count": 83,
   "id": "544d32a6",
   "metadata": {},
   "outputs": [
    {
     "data": {
      "text/plain": [
       "[<matplotlib.lines.Line2D at 0x1a28b802130>]"
      ]
     },
     "execution_count": 83,
     "metadata": {},
     "output_type": "execute_result"
    },
    {
     "data": {
      "image/png": "[encoded data removed]",
      "text/plain": [
       "<Figure size 432x288 with 1 Axes>"
      ]
     },
     "metadata": {
      "needs_background": "light"
     },
     "output_type": "display_data"
    }
   ],
   "source": [
    "df3=scaler.inverse_transform(df3).tolist()\n",
    "plt.plot(df3)"
   ]
  }
 ],
 "metadata": {
  "kernelspec": {
   "display_name": "Python 3 (ipykernel)",
   "language": "python",
   "name": "python3"
  },
  "language_info": {
   "codemirror_mode": {
    "name": "ipython",
    "version": 3
   },
   "file_extension": ".py",
   "mimetype": "text/x-python",
   "name": "python",
   "nbconvert_exporter": "python",
   "pygments_lexer": "ipython3",
   "version": "3.9.12"
  }
 },
 "nbformat": 4,
 "nbformat_minor": 5
}
